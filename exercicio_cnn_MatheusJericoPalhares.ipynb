{
 "cells": [
  {
   "cell_type": "markdown",
   "metadata": {
    "scrolled": true
   },
   "source": [
    "O objetivo do exercício é praticar a codificação utilizando o Tensorflow e aplicar o mesmo nos conceitos apresentados em aula.\n",
    "\n",
    "Neste exercício, utilizaremos um dataset bem conhecido: o dataset de dígitos escritos a mão do MNIST. Este dataset consiste em 60.000 imagens, de tamanho 28x28, dos dígitos de 0 a 9, escritos à mão. \n",
    "\n",
    "Devem ser criadas duas redes neurais capazes de classificar estas imagens: uma Rede Neural convencional (MLP), contendo duas camadas ocultas de 256 neurônios cada (ou qualquer valor que queira) e uma camada de saída. Algo semelhante à figura abaixo:\n",
    "\n",
    "![Image](http://cs231n.github.io/assets/nn1/neural_net2.jpeg)\n",
    "\n",
    "A segunda rede a ser codificada deve ser uma Rede Neural Convolucional (CNN) contendo ao menos duas camadas de convolução, duas camadas de pooling e uma camada fully-connected.\n",
    "\n",
    "![Image](https://www.mdpi.com/entropy/entropy-19-00242/article_deploy/html/images/entropy-19-00242-g001.png)\n",
    "\n",
    "Ao final da implementação de ambas, a acurácia das redes deve ser apresentada para verificação de qual rede se saiu melhor."
   ]
  },
  {
   "cell_type": "markdown",
   "metadata": {},
   "source": [
    "# Exercício\n",
    "# Autor: Matheus Jericó Palhares\n",
    "# Email: matheusjerico1994@hotmail.com\n",
    "# linkedIn: https://www.linkedin.com/in/matheusjerico"
   ]
  },
  {
   "cell_type": "code",
   "execution_count": 1,
   "metadata": {},
   "outputs": [],
   "source": [
    "import tensorflow as tf\n",
    "\n",
    "from tensorflow.examples.tutorials.mnist import input_data\n",
    "\n",
    "tf.logging.set_verbosity(tf.logging.ERROR)"
   ]
  },
  {
   "cell_type": "markdown",
   "metadata": {},
   "source": [
    "#### Importando bibliotecas utilizadas"
   ]
  },
  {
   "cell_type": "code",
   "execution_count": 2,
   "metadata": {},
   "outputs": [
    {
     "name": "stderr",
     "output_type": "stream",
     "text": [
      "Using TensorFlow backend.\n"
     ]
    }
   ],
   "source": [
    "from keras.models import Sequential # Modelo\n",
    "from keras.layers import Activation, Dense, Dropout, Flatten, BatchNormalization # Construção CNN e NN\n",
    "from keras.layers import Conv2D, MaxPooling2D # Construção CNN\n",
    "from keras.utils import np_utils # Utilizar to_categorical para categorização dos labels\n",
    "from keras.datasets import mnist # Dataset\n",
    "from matplotlib import pylab as plt # Gráfico\n",
    "from keras import backend as K # Verificar o formato da imagem\n",
    "from sklearn.metrics import classification_report, multilabel_confusion_matrix # metricas para validação\n",
    "import numpy as np \n",
    "%matplotlib inline"
   ]
  },
  {
   "cell_type": "markdown",
   "metadata": {},
   "source": [
    "#### Carregando o dataset a ser trabalhado"
   ]
  },
  {
   "cell_type": "code",
   "execution_count": 3,
   "metadata": {},
   "outputs": [
    {
     "name": "stdout",
     "output_type": "stream",
     "text": [
      "X_train.shape: (60000, 28, 28)\n",
      "y_train.shape: (60000,)\n",
      "X_test.shape: (10000, 28, 28)\n",
      "y_test.shape: (10000,)\n"
     ]
    }
   ],
   "source": [
    "(X_train, y_train), (X_test, y_test) = mnist.load_data()\n",
    "\n",
    "# Verificando formato das imagens\n",
    "print(\"X_train.shape: {}\".format(X_train.shape))\n",
    "print(\"y_train.shape: {}\".format(y_train.shape))\n",
    "print(\"X_test.shape: {}\".format(X_test.shape))\n",
    "print(\"y_test.shape: {}\".format(y_test.shape))"
   ]
  },
  {
   "cell_type": "markdown",
   "metadata": {},
   "source": [
    "## Pré-processamento dos dados"
   ]
  },
  {
   "cell_type": "markdown",
   "metadata": {},
   "source": [
    "- Fazendo reshape:\n",
    "    - Backend utilizando o tensor_flow: O formato da imagem é 'channels_last', coloca-se a profundidade da imagem no final;\n",
    "    - Backend utilizando o Theano: O formato da imagem é 'channels_first', coloca-se a profundidade da imagem no início.\n",
    "    \n",
    "O código abaixo eu automatizo essa decisão, utilizando a função keras.backend.image_data_format(), a resposta da função é uma string: 'channels_first' para Theano como beckend e 'channels_last' para tensor_flow como beckend.\n",
    "\n",
    "Já seto o parâmetro (input_shape) a ser passado na camada de entrada da MLP ou da CNN."
   ]
  },
  {
   "cell_type": "code",
   "execution_count": 4,
   "metadata": {},
   "outputs": [
    {
     "name": "stdout",
     "output_type": "stream",
     "text": [
      "image_data_format: channels_last\n"
     ]
    }
   ],
   "source": [
    "imagem_linhas = 28\n",
    "imagem_colunas = 28\n",
    "\n",
    "if K.image_data_format() == 'channels_first':\n",
    "    print(\"image_data_format: channels_first\")\n",
    "    X_train = X_train.reshape(X_train.shape[0], 1, imagem_linhas, imagem_colunas)\n",
    "    X_test = X_test.reshape(X_test.shape[0], 1, imagem_linhas, imagem_colunas)\n",
    "    inputShape = (1, imagem_linhas, imagem_colunas)\n",
    "else:\n",
    "    print(\"image_data_format: channels_last\")\n",
    "    X_train = X_train.reshape(X_train.shape[0], imagem_linhas, imagem_colunas, 1)\n",
    "    X_test = X_test.reshape(X_test.shape[0], imagem_linhas, imagem_colunas, 1)\n",
    "    inputShape = (imagem_linhas, imagem_colunas, 1)"
   ]
  },
  {
   "cell_type": "markdown",
   "metadata": {},
   "source": [
    "- Após realizar o reshape da imagem adicionando a profundidade, verifico a modificação:"
   ]
  },
  {
   "cell_type": "code",
   "execution_count": 5,
   "metadata": {},
   "outputs": [
    {
     "name": "stdout",
     "output_type": "stream",
     "text": [
      "X_train.shape: (60000, 28, 28, 1)\n",
      "X_test.shape: (10000, 28, 28, 1)\n"
     ]
    }
   ],
   "source": [
    "# Confirmando as dimensões dos X's\n",
    "print('X_train.shape: {}'.format(X_train.shape))\n",
    "print('X_test.shape: {}'.format(X_test.shape))"
   ]
  },
  {
   "cell_type": "markdown",
   "metadata": {},
   "source": [
    "#### Pré-processamento das variáveis X's:\n",
    "    - Transformo em array do tipo 'float' e divido por 255 para normalização os dados;\n",
    "    - Os valores das matrizes das imagens que antes estavam entre 0 a 255, agora variam de 0 a 1."
   ]
  },
  {
   "cell_type": "code",
   "execution_count": 6,
   "metadata": {},
   "outputs": [],
   "source": [
    "# Transformando dados em float32 e normalizando (dados com valores de 0 até 1)\n",
    "X_train = np.array(X_train, dtype='float32') / 255.\n",
    "X_test = np.array(X_test, dtype='float32') / 255."
   ]
  },
  {
   "cell_type": "markdown",
   "metadata": {},
   "source": [
    "#### Pré-processamento das variáveis Y's:\n",
    "    - Faço a verificação do formato dos labels, estão variando de 0 a 9 (apenas uma dimensão);\n",
    "    - Faço a categorização para transformar os labels de uma dimensão para dez dimensões;\n",
    "\n",
    "Exemplo:\n",
    "    - O label do número '2' é o 2.\n",
    "    - Após a categorização o label '2' vai passar a ser uma representação em formato de array com múltiplas dimensões:\n",
    "    - [0, 0, 1, 0, 0, 0, 0, 0, 0, 0]\n",
    "    \n",
    "    "
   ]
  },
  {
   "cell_type": "code",
   "execution_count": 7,
   "metadata": {},
   "outputs": [
    {
     "name": "stdout",
     "output_type": "stream",
     "text": [
      "y_train.shape: (60000,)\n",
      "Os 5 primeiros labels do y_train: [5 0 4 1 9]\n"
     ]
    }
   ],
   "source": [
    "# Verificando o formato dos labels\n",
    "print(\"y_train.shape: {}\".format(y_train.shape))\n",
    "\n",
    "# Visualizando os 5 primeiros labels no y_train\n",
    "print('Os 5 primeiros labels do y_train: {}'.format(y_train[:5]))"
   ]
  },
  {
   "cell_type": "markdown",
   "metadata": {},
   "source": [
    "- Faço a categorização dos labels:"
   ]
  },
  {
   "cell_type": "code",
   "execution_count": 8,
   "metadata": {},
   "outputs": [],
   "source": [
    "# Categorizando dos Y's\n",
    "# Converter o array que possui apenas 1 dimensão, em um array com 10 dimensões.\n",
    "y_train = np_utils.to_categorical(y_train)\n",
    "y_test = np_utils.to_categorical(y_test)"
   ]
  },
  {
   "cell_type": "code",
   "execution_count": 9,
   "metadata": {},
   "outputs": [
    {
     "name": "stdout",
     "output_type": "stream",
     "text": [
      "y_train.shape: (60000, 10)\n",
      "y_test.shape: (10000, 10)\n"
     ]
    }
   ],
   "source": [
    "# Verificando as dimensões do array\n",
    "print('y_train.shape: {}'.format(y_train.shape))\n",
    "print('y_test.shape: {}'.format(y_test.shape))"
   ]
  },
  {
   "cell_type": "markdown",
   "metadata": {},
   "source": [
    "## Criando modelo com MLP\n",
    "\n",
    "- Flatten(): Tranformar a imagem que está em formato de matriz para o formato de vetor;\n",
    "- Dense(): Camada densa da Rede neural, a primeira camada Dense tem que ter o parâmetro de input_shape com a dimensão da imagem e profundidade. A quantidade de nodes para a primeira camada foi 28 x 28 (tamanho da imagem);\n",
    "- Activation(): Função de ativação, optei por utilizar a ReLu pois tenho um bom resultado com ela;\n",
    "- BatchNormalization(): Utilizado para normalizar as ativações da camada anterior, obtive uma melhora na acurácia e uma menor probabilidade de ocorrer overfitting;\n",
    "- Dropout(): Aplicado para prevenir overfitting durante o treinamento, 'cancela' 20% (parâmetro selecionado) das ligações entre nodes.\n",
    "\n",
    "Reduzi o número de nodes pela metade em cada camada Densa, até que na camada de saída tenho 10 nodes, pois temos 10 classes a serem classificadas.\n",
    "\n",
    "Função utilizada foi o 'softmax', apresenta a probabilidade de classificação de cada classe, fazendo a selecão da classe que tem maior probabilidade.\n"
   ]
  },
  {
   "cell_type": "code",
   "execution_count": 10,
   "metadata": {},
   "outputs": [],
   "source": [
    "# Iniciando modelo MLP\n",
    "model_mlp = Sequential()\n",
    "\n",
    "# Flatten()\n",
    "model_mlp.add(Flatten())\n",
    "\n",
    "# Camada de entrada:\n",
    "model_mlp.add(Dense(784, input_shape = (28, 28, 1))) \n",
    "model_mlp.add(Activation(\"relu\")) \n",
    "model_mlp.add(BatchNormalization()) \n",
    "model_mlp.add(Dropout(0.2)) \n",
    "\n",
    "# 1º camada oculta:\n",
    "model_mlp.add(Dense(392))\n",
    "model_mlp.add(Activation(\"relu\"))\n",
    "model_mlp.add(BatchNormalization())\n",
    "model_mlp.add(Dropout(0.2))\n",
    "\n",
    "# 2º camada oculta:\n",
    "model_mlp.add(Dense(196))\n",
    "model_mlp.add(Activation(\"relu\"))\n",
    "model_mlp.add(BatchNormalization())\n",
    "model_mlp.add(Dropout(0.2))\n",
    "\n",
    "# Camada de saida:\n",
    "model_mlp.add(Dense(10))\n",
    "model_mlp.add(Activation(\"softmax\"))"
   ]
  },
  {
   "cell_type": "markdown",
   "metadata": {},
   "source": [
    "### Compilando o Modelo\n",
    "- loss: 'categorical_crossentropy' utilizado pois é uma classificação com mais de 2 classes;\n",
    "- optimizer: 'adam' foi escolhido pois obtive um melhor resultado do que usando o 'sgd'. Backpropagation."
   ]
  },
  {
   "cell_type": "code",
   "execution_count": 11,
   "metadata": {},
   "outputs": [],
   "source": [
    "# Compilando modelo MLP:\n",
    "model_mlp.compile(loss='categorical_crossentropy', optimizer='adam', metrics=['accuracy'])"
   ]
  },
  {
   "cell_type": "markdown",
   "metadata": {},
   "source": [
    "### Treinando o modelo\n",
    "- Passo os dados de treino, tamanho do lote, épocas e os dados de validação."
   ]
  },
  {
   "cell_type": "code",
   "execution_count": 12,
   "metadata": {},
   "outputs": [
    {
     "name": "stdout",
     "output_type": "stream",
     "text": [
      "Train on 60000 samples, validate on 10000 samples\n",
      "Epoch 1/10\n",
      "60000/60000 [==============================] - 23s 390us/step - loss: 0.2288 - acc: 0.9297 - val_loss: 0.1141 - val_acc: 0.9633\n",
      "Epoch 2/10\n",
      "60000/60000 [==============================] - 20s 333us/step - loss: 0.1026 - acc: 0.9677 - val_loss: 0.0882 - val_acc: 0.9724\n",
      "Epoch 3/10\n",
      "60000/60000 [==============================] - 20s 330us/step - loss: 0.0812 - acc: 0.9738 - val_loss: 0.0774 - val_acc: 0.9772\n",
      "Epoch 4/10\n",
      "60000/60000 [==============================] - 20s 327us/step - loss: 0.0665 - acc: 0.9793 - val_loss: 0.0785 - val_acc: 0.9751\n",
      "Epoch 5/10\n",
      "60000/60000 [==============================] - 20s 328us/step - loss: 0.0592 - acc: 0.9811 - val_loss: 0.0713 - val_acc: 0.9792\n",
      "Epoch 6/10\n",
      "60000/60000 [==============================] - 19s 325us/step - loss: 0.0509 - acc: 0.9830 - val_loss: 0.0687 - val_acc: 0.9801\n",
      "Epoch 7/10\n",
      "60000/60000 [==============================] - 19s 325us/step - loss: 0.0466 - acc: 0.9847 - val_loss: 0.0618 - val_acc: 0.9808\n",
      "Epoch 8/10\n",
      "60000/60000 [==============================] - 19s 325us/step - loss: 0.0435 - acc: 0.9853 - val_loss: 0.0614 - val_acc: 0.9807\n",
      "Epoch 9/10\n",
      "60000/60000 [==============================] - 20s 325us/step - loss: 0.0378 - acc: 0.9876 - val_loss: 0.0642 - val_acc: 0.9803\n",
      "Epoch 10/10\n",
      "60000/60000 [==============================] - 20s 327us/step - loss: 0.0353 - acc: 0.9882 - val_loss: 0.0616 - val_acc: 0.9832\n"
     ]
    }
   ],
   "source": [
    "# Parâmetros:\n",
    "BS = 128\n",
    "EPOCHS = 10\n",
    "\n",
    "# Fit no modelo\n",
    "H1 = model_mlp.fit(X_train, y_train, batch_size=BS, epochs= EPOCHS, verbose=1, validation_data=(X_test, y_test))"
   ]
  },
  {
   "cell_type": "markdown",
   "metadata": {},
   "source": [
    "### Avaliando modelo MLP\n",
    "- Utilizo a função evaluate() para obter a acurácia e o erro nos dados de teste"
   ]
  },
  {
   "cell_type": "code",
   "execution_count": 13,
   "metadata": {},
   "outputs": [
    {
     "name": "stdout",
     "output_type": "stream",
     "text": [
      "10000/10000 [==============================] - 2s 193us/step\n"
     ]
    }
   ],
   "source": [
    "# Mostrando resultados do modelo MLP\n",
    "scores_mlp = model_mlp.evaluate(X_test, y_test)"
   ]
  },
  {
   "cell_type": "code",
   "execution_count": 14,
   "metadata": {},
   "outputs": [
    {
     "name": "stdout",
     "output_type": "stream",
     "text": [
      "Loss do Modelo MLP: 6.15795305685082%\n",
      "Accuracy do Modelo MLP: 98.32%\n"
     ]
    }
   ],
   "source": [
    "# Mostrando o erro e acurácia do modelo MLP\n",
    "print(\"Loss do Modelo MLP: {}%\".format(scores_mlp[0]*100))\n",
    "print(\"Accuracy do Modelo MLP: {}%\".format(scores_mlp[1]*100))"
   ]
  },
  {
   "cell_type": "markdown",
   "metadata": {},
   "source": [
    "#### Predição do modelo MLP\n",
    "- Utilizo a função predict_classes() para fazer a predição dos dados de teste.\n",
    "- Categorizo a predição."
   ]
  },
  {
   "cell_type": "code",
   "execution_count": 15,
   "metadata": {},
   "outputs": [
    {
     "name": "stdout",
     "output_type": "stream",
     "text": [
      "2\n",
      "[0. 0. 1. 0. 0. 0. 0. 0. 0. 0.]\n"
     ]
    }
   ],
   "source": [
    "# Fazendo predição do modelo MLP\n",
    "preds_mlp = model_mlp.predict_classes(X_test)\n",
    "print(preds_mlp[1])\n",
    "preds_mlp = np_utils.to_categorical(preds_mlp)\n",
    "print(preds_mlp[1])"
   ]
  },
  {
   "cell_type": "markdown",
   "metadata": {},
   "source": [
    "- Avaliando o modelo com a função classification_report(): obtenho as metricas de precisão, recall e f1-score, além da quantidade de imagens para cada classificação"
   ]
  },
  {
   "cell_type": "code",
   "execution_count": 16,
   "metadata": {},
   "outputs": [
    {
     "name": "stdout",
     "output_type": "stream",
     "text": [
      "              precision    recall  f1-score   support\n",
      "\n",
      "           0       0.99      0.99      0.99       980\n",
      "           1       0.99      0.99      0.99      1135\n",
      "           2       0.98      0.99      0.98      1032\n",
      "           3       0.99      0.98      0.98      1010\n",
      "           4       0.98      0.98      0.98       982\n",
      "           5       0.99      0.98      0.99       892\n",
      "           6       0.99      0.98      0.99       958\n",
      "           7       0.98      0.98      0.98      1028\n",
      "           8       0.98      0.98      0.98       974\n",
      "           9       0.97      0.98      0.98      1009\n",
      "\n",
      "   micro avg       0.98      0.98      0.98     10000\n",
      "   macro avg       0.98      0.98      0.98     10000\n",
      "weighted avg       0.98      0.98      0.98     10000\n",
      " samples avg       0.98      0.98      0.98     10000\n",
      "\n"
     ]
    }
   ],
   "source": [
    "# Mostrando precisão, recall e f1-score do modelo MLP\n",
    "print(classification_report(y_test, preds_mlp))"
   ]
  },
  {
   "cell_type": "markdown",
   "metadata": {},
   "source": [
    "- Utilizo a função multilabel_confusion_matrix() para verificar a matriz de confusão de cada label"
   ]
  },
  {
   "cell_type": "code",
   "execution_count": 17,
   "metadata": {},
   "outputs": [],
   "source": [
    "# Matriz de confusão do Modelo MLP\n",
    " matriz_confusão = multilabel_confusion_matrix(y_test, preds_mlp)"
   ]
  },
  {
   "cell_type": "code",
   "execution_count": 18,
   "metadata": {},
   "outputs": [
    {
     "name": "stdout",
     "output_type": "stream",
     "text": [
      "\n",
      "Matriz de confusão do classificação do número: 0\n",
      "[[9008   12]\n",
      " [  11  969]]\n",
      "\n",
      "Matriz de confusão do classificação do número: 1\n",
      "[[8854   11]\n",
      " [   9 1126]]\n",
      "\n",
      "Matriz de confusão do classificação do número: 2\n",
      "[[8946   22]\n",
      " [  14 1018]]\n",
      "\n",
      "Matriz de confusão do classificação do número: 3\n",
      "[[8976   14]\n",
      " [  20  990]]\n",
      "\n",
      "Matriz de confusão do classificação do número: 4\n",
      "[[8997   21]\n",
      " [  17  965]]\n",
      "\n",
      "Matriz de confusão do classificação do número: 5\n",
      "[[9100    8]\n",
      " [  18  874]]\n",
      "\n",
      "Matriz de confusão do classificação do número: 6\n",
      "[[9031   11]\n",
      " [  17  941]]\n",
      "\n",
      "Matriz de confusão do classificação do número: 7\n",
      "[[8950   22]\n",
      " [  22 1006]]\n",
      "\n",
      "Matriz de confusão do classificação do número: 8\n",
      "[[9006   20]\n",
      " [  24  950]]\n",
      "\n",
      "Matriz de confusão do classificação do número: 9\n",
      "[[8964   27]\n",
      " [  16  993]]\n"
     ]
    }
   ],
   "source": [
    "# Visualizando matriz de confusão do Modelo MLP\n",
    "for i, matriz in enumerate(matriz_confusão):\n",
    "    print(\"\\nMatriz de confusão do classificação do número: {}\".format(i))\n",
    "    print(matriz)"
   ]
  },
  {
   "cell_type": "markdown",
   "metadata": {},
   "source": [
    "### Gráfico de rendimento do Modelo MLP de acordo com as Épocas"
   ]
  },
  {
   "cell_type": "code",
   "execution_count": 19,
   "metadata": {},
   "outputs": [
    {
     "data": {
      "text/plain": [
       "<matplotlib.legend.Legend at 0x7f2e7c2c8d30>"
      ]
     },
     "execution_count": 19,
     "metadata": {},
     "output_type": "execute_result"
    },
    {
     "data": {
      "image/png": "[encoded data removed]",
      "text/plain": [
       "<Figure size 1080x1080 with 2 Axes>"
      ]
     },
     "metadata": {},
     "output_type": "display_data"
    }
   ],
   "source": [
    "# Plotando gráfico de rendimento do Modelo MLP\n",
    "N = EPOCHS\n",
    "plt.style.use(\"ggplot\")\n",
    "plt.figure(figsize=(15,15))\n",
    "\n",
    "plt.subplot(221)\n",
    "plt.title(\"Loss do Modelo MLP\")\n",
    "plt.plot(np.arange(0, N), H1.history[\"loss\"], label=\"train_loss\")\n",
    "plt.plot(np.arange(0, N), H1.history[\"val_loss\"], label=\"val_loss\")\n",
    "plt.xlabel(\"Epoch #\")\n",
    "plt.ylabel(\"Erro\")\n",
    "plt.legend()\n",
    "\n",
    "plt.subplot(222)\n",
    "plt.title(\"Acurácia e Erro do Modelo MLP\")\n",
    "plt.plot(np.arange(0, N), H1.history[\"acc\"], label=\"train_acc\")\n",
    "plt.plot(np.arange(0, N), H1.history[\"val_acc\"], label=\"val_acc\")\n",
    "plt.title(\"Acurácia e Erro do Modelo MLP\")\n",
    "plt.xlabel(\"Epoch #\")\n",
    "plt.ylabel(\"Acurácia\")\n",
    "plt.legend()"
   ]
  },
  {
   "cell_type": "markdown",
   "metadata": {},
   "source": [
    "## Criando modelo CNN\n",
    "\n",
    "- Conv2D(): Camada de convolução espacial sobre imagens:\n",
    "\n",
    "    - Parâmetros:\n",
    "\n",
    "        - filters: Números de filtros de saída da convolução;\n",
    "        - kernel_size: Altura e largura do filtro de convolução;\n",
    "        - activation: Função de ativação;\n",
    "        - padding: 'same' => Preenche o redor da imagem com valores zeros para aplicar o filtro com maior precisão;\n",
    "        - input_shape: Utilizado na camada de entrada, informando o formato da imagem.\n",
    "\n",
    "- BatchNormalization(): Utilizado para normalizar as ativações da camada anterior, obtive uma melhora na acurácia e uma menor probabilidade de ocorrer overfitting;\n",
    "\n",
    "- MaxPooling2D: Aplica o maxpooling com janela de tamanho 2x2;\n",
    "\n",
    "- Dropout(): Aplicado para prevenir overfitting durante o treinamento, 'cancela' 20% (parâmetro selecionado) das ligações entre nodes;\n",
    "\n",
    "- Flatten(): Tranformar a imagem que está em formato de matriz para o formato de vetor;\n",
    "\n",
    "- Dense(): Camada densa da Rede neural, a primeira camada Dense tem que ter o parâmetro de input_shape com a dimensão da imagem e profundidade. A quantidade de nodes para a primeira camada foi 28 x 28 (tamanho da imagem);\n",
    "\n",
    "- Activation(): Função de ativação, optei por utilizar a ReLu pois tenho um bom resultado com ela.\n",
    "\n",
    "\n",
    "Reduzi o número de nodes pela metade em cada camada Densa, até que na camada de saída tenho 10 nodes, pois temos 10 classes a serem classificadas.\n",
    "\n",
    "Função utilizada foi o 'softmax', apresenta a probabilidade de classificação de cada classe, fazendo a selecão da classe que tem maior probabilidade.\n",
    "\n",
    "Na CNN estou utilizando a função de ativação como parâmetro dentro da Convolução e da Densa.\n"
   ]
  },
  {
   "cell_type": "code",
   "execution_count": 20,
   "metadata": {},
   "outputs": [],
   "source": [
    "# Iniciando modelo CNN\n",
    "model_cnn = Sequential()\n",
    "\n",
    "# Camada de entrada Convolução:\n",
    "model_cnn.add(Conv2D(filters=32, kernel_size=(3, 3), activation = 'relu', padding='same', input_shape=inputShape))\n",
    "model_cnn.add(BatchNormalization())\n",
    "model_cnn.add(MaxPooling2D(pool_size = (2,2))) \n",
    "model_cnn.add(Dropout(0.25))\n",
    "\n",
    "# 2º camada de convolução:\n",
    "model_cnn.add(Conv2D(filters=64, kernel_size=(3, 3), activation = 'relu', padding='same')) \n",
    "model_cnn.add(BatchNormalization())\n",
    "model_cnn.add(MaxPooling2D(pool_size = (2,2)))\n",
    "model_cnn.add(Dropout(0.25))\n",
    "\n",
    "# Flatten():\n",
    "model_cnn.add(Flatten())\n",
    "\n",
    "# 1º camada Densa:\n",
    "model_cnn.add(Dense(128, activation = 'relu'))\n",
    "model_mlp.add(BatchNormalization())\n",
    "model_cnn.add(Dropout(0.25))\n",
    "\n",
    "# 2º camada Densa:\n",
    "model_cnn.add(Dense(64, activation = 'relu'))\n",
    "model_mlp.add(BatchNormalization())\n",
    "model_cnn.add(Dropout(0.25))\n",
    "\n",
    "# Camada de saída:\n",
    "model_cnn.add(Dense(10, activation = 'softmax')) # camada de saída: 10 pq são 10 classes de saída\n",
    "                                                 # softmax: escolhe o número com maior probabilidade"
   ]
  },
  {
   "cell_type": "markdown",
   "metadata": {},
   "source": [
    "### Compilando o Modelo\n",
    "- loss: 'categorical_crossentropy' utilizado pois é uma classificação com mais de 2 classes;\n",
    "- optimizer: 'adam' foi escolhido pois obtive um melhor resultado do que usando o 'sgd'. Backpropagation."
   ]
  },
  {
   "cell_type": "code",
   "execution_count": 21,
   "metadata": {},
   "outputs": [],
   "source": [
    "# Compilar o modelo de CNN\n",
    "model_cnn.compile(loss='categorical_crossentropy', optimizer= 'adam', metrics= ['accuracy'])"
   ]
  },
  {
   "cell_type": "markdown",
   "metadata": {},
   "source": [
    "### Treinando o modelo\n",
    "- Passo os dados de treino, tamanho do lote, épocas e os dados de validação.\n",
    "- Mesmos parâmetros utilizados no treinamento do modelo MLP."
   ]
  },
  {
   "cell_type": "code",
   "execution_count": 22,
   "metadata": {},
   "outputs": [
    {
     "name": "stdout",
     "output_type": "stream",
     "text": [
      "Train on 60000 samples, validate on 10000 samples\n",
      "Epoch 1/10\n",
      "60000/60000 [==============================] - 134s 2ms/step - loss: 0.3863 - acc: 0.8843 - val_loss: 0.0593 - val_acc: 0.9816\n",
      "Epoch 2/10\n",
      "60000/60000 [==============================] - 129s 2ms/step - loss: 0.1288 - acc: 0.9656 - val_loss: 0.0521 - val_acc: 0.9841\n",
      "Epoch 3/10\n",
      "60000/60000 [==============================] - 129s 2ms/step - loss: 0.0954 - acc: 0.9733 - val_loss: 0.0344 - val_acc: 0.9879\n",
      "Epoch 4/10\n",
      "60000/60000 [==============================] - 129s 2ms/step - loss: 0.0752 - acc: 0.9788 - val_loss: 0.0316 - val_acc: 0.9905\n",
      "Epoch 5/10\n",
      "60000/60000 [==============================] - 128s 2ms/step - loss: 0.0651 - acc: 0.9814 - val_loss: 0.0318 - val_acc: 0.9895\n",
      "Epoch 6/10\n",
      "60000/60000 [==============================] - 129s 2ms/step - loss: 0.0600 - acc: 0.9839 - val_loss: 0.0305 - val_acc: 0.9905\n",
      "Epoch 7/10\n",
      "60000/60000 [==============================] - 129s 2ms/step - loss: 0.0563 - acc: 0.9836 - val_loss: 0.0373 - val_acc: 0.9896\n",
      "Epoch 8/10\n",
      "60000/60000 [==============================] - 132s 2ms/step - loss: 0.0516 - acc: 0.9852 - val_loss: 0.0280 - val_acc: 0.9910\n",
      "Epoch 9/10\n",
      "60000/60000 [==============================] - 131s 2ms/step - loss: 0.0472 - acc: 0.9865 - val_loss: 0.0289 - val_acc: 0.9906\n",
      "Epoch 10/10\n",
      "60000/60000 [==============================] - 130s 2ms/step - loss: 0.0429 - acc: 0.9878 - val_loss: 0.0281 - val_acc: 0.9917\n"
     ]
    }
   ],
   "source": [
    "# Fit no modelo de CNN\n",
    "H2 = model_cnn.fit(X_train, y_train, batch_size=BS, epochs= EPOCHS, verbose=1, validation_data=(X_test, y_test))"
   ]
  },
  {
   "cell_type": "markdown",
   "metadata": {},
   "source": [
    "### Avaliando modelo CNN\n",
    "- Utilizo a função evaluate() para obter a acurácia e o erro nos dados de teste."
   ]
  },
  {
   "cell_type": "code",
   "execution_count": 23,
   "metadata": {},
   "outputs": [
    {
     "name": "stdout",
     "output_type": "stream",
     "text": [
      "10000/10000 [==============================] - 12s 1ms/step\n"
     ]
    }
   ],
   "source": [
    "# Mostrando resultados do Modelo CNN\n",
    "scores_cnn = model_cnn.evaluate(X_test, y_test)"
   ]
  },
  {
   "cell_type": "code",
   "execution_count": 24,
   "metadata": {},
   "outputs": [
    {
     "name": "stdout",
     "output_type": "stream",
     "text": [
      "Loss: 0.028085845008607294\n",
      "Accuracy: 0.9917\n"
     ]
    }
   ],
   "source": [
    "# Printando Erro e Acurácia do Modelo CNN\n",
    "print(\"Loss: {}\".format(scores_cnn[0]))\n",
    "print(\"Accuracy: {}\".format(scores_cnn[1]))"
   ]
  },
  {
   "cell_type": "markdown",
   "metadata": {},
   "source": [
    "#### Predição do modelo CNN\n",
    "- Utilizo a função predict_classes() para fazer a predição dos dados de teste.\n",
    "- Categorizo a predição."
   ]
  },
  {
   "cell_type": "code",
   "execution_count": 25,
   "metadata": {},
   "outputs": [
    {
     "name": "stdout",
     "output_type": "stream",
     "text": [
      "2\n",
      "[0. 0. 1. 0. 0. 0. 0. 0. 0. 0.]\n"
     ]
    }
   ],
   "source": [
    "# Fazendo predição do Modelo CNN\n",
    "preds_cnn = model_cnn.predict_classes(X_test)\n",
    "print(preds_cnn[1])\n",
    "preds_cnn = np_utils.to_categorical(preds_cnn)\n",
    "print(preds_cnn[1])"
   ]
  },
  {
   "cell_type": "markdown",
   "metadata": {},
   "source": [
    "- Avaliando o modelo com a função classification_report(): obtenho as metricas de precisão, recall e f1-score, além da quantidade de imagens para cada classificação"
   ]
  },
  {
   "cell_type": "code",
   "execution_count": 26,
   "metadata": {},
   "outputs": [
    {
     "name": "stdout",
     "output_type": "stream",
     "text": [
      "              precision    recall  f1-score   support\n",
      "\n",
      "           0       0.99      1.00      0.99       980\n",
      "           1       1.00      0.99      1.00      1135\n",
      "           2       0.98      1.00      0.99      1032\n",
      "           3       0.98      1.00      0.99      1010\n",
      "           4       1.00      0.99      0.99       982\n",
      "           5       0.99      0.98      0.99       892\n",
      "           6       1.00      0.98      0.99       958\n",
      "           7       1.00      0.99      0.99      1028\n",
      "           8       0.99      0.99      0.99       974\n",
      "           9       0.99      0.99      0.99      1009\n",
      "\n",
      "   micro avg       0.99      0.99      0.99     10000\n",
      "   macro avg       0.99      0.99      0.99     10000\n",
      "weighted avg       0.99      0.99      0.99     10000\n",
      " samples avg       0.99      0.99      0.99     10000\n",
      "\n"
     ]
    }
   ],
   "source": [
    "# Mostrando os valores de precisão, recall, f1-score do modelo CNN\n",
    "print(classification_report(y_test, preds_cnn))"
   ]
  },
  {
   "cell_type": "markdown",
   "metadata": {},
   "source": [
    "- Utilizo a função multilabel_confusion_matrix() para verificar a matriz de confusão de cada label"
   ]
  },
  {
   "cell_type": "code",
   "execution_count": 27,
   "metadata": {},
   "outputs": [],
   "source": [
    "# Matriz de confusão do Modelo cnn\n",
    "matriz_confusão = multilabel_confusion_matrix(y_test, preds_cnn)"
   ]
  },
  {
   "cell_type": "code",
   "execution_count": 28,
   "metadata": {},
   "outputs": [
    {
     "name": "stdout",
     "output_type": "stream",
     "text": [
      "\n",
      "Matriz de confusão do classificação do número: 0\n",
      "[[9009   11]\n",
      " [   2  978]]\n",
      "\n",
      "Matriz de confusão do classificação do número: 1\n",
      "[[8862    3]\n",
      " [   6 1129]]\n",
      "\n",
      "Matriz de confusão do classificação do número: 2\n",
      "[[8950   18]\n",
      " [   2 1030]]\n",
      "\n",
      "Matriz de confusão do classificação do número: 3\n",
      "[[8974   16]\n",
      " [   2 1008]]\n",
      "\n",
      "Matriz de confusão do classificação do número: 4\n",
      "[[9016    2]\n",
      " [   9  973]]\n",
      "\n",
      "Matriz de confusão do classificação do número: 5\n",
      "[[9098   10]\n",
      " [  14  878]]\n",
      "\n",
      "Matriz de confusão do classificação do número: 6\n",
      "[[9038    4]\n",
      " [  15  943]]\n",
      "\n",
      "Matriz de confusão do classificação do número: 7\n",
      "[[8969    3]\n",
      " [  15 1013]]\n",
      "\n",
      "Matriz de confusão do classificação do número: 8\n",
      "[[9020    6]\n",
      " [   7  967]]\n",
      "\n",
      "Matriz de confusão do classificação do número: 9\n",
      "[[8981   10]\n",
      " [  11  998]]\n"
     ]
    }
   ],
   "source": [
    "# Visualizando matriz de confusão do Modelo CNN\n",
    "for i, matriz in enumerate(matriz_confusão):\n",
    "    print(\"\\nMatriz de confusão do classificação do número: {}\".format(i))\n",
    "    print(matriz)"
   ]
  },
  {
   "cell_type": "code",
   "execution_count": 29,
   "metadata": {},
   "outputs": [
    {
     "data": {
      "text/plain": [
       "<matplotlib.legend.Legend at 0x7f2e393c9a90>"
      ]
     },
     "execution_count": 29,
     "metadata": {},
     "output_type": "execute_result"
    },
    {
     "data": {
      "image/png": "[encoded data removed]",
      "text/plain": [
       "<Figure size 1080x1080 with 2 Axes>"
      ]
     },
     "metadata": {},
     "output_type": "display_data"
    }
   ],
   "source": [
    "# Plotando gráfico de rendimento do Modelo MLP\n",
    "N = EPOCHS\n",
    "plt.style.use(\"ggplot\")\n",
    "plt.figure(figsize=(15,15))\n",
    "\n",
    "plt.subplot(221)\n",
    "plt.title(\"Loss do Modelo CNN\")\n",
    "plt.plot(np.arange(0, N), H2.history[\"loss\"], label=\"train_loss\")\n",
    "plt.plot(np.arange(0, N), H2.history[\"val_loss\"], label=\"val_loss\")\n",
    "plt.xlabel(\"Epoch #\")\n",
    "plt.ylabel(\"Erro\")\n",
    "plt.legend()\n",
    "\n",
    "plt.subplot(222)\n",
    "plt.title(\"Accuracy do Modelo CNN\")\n",
    "plt.plot(np.arange(0, N), H2.history[\"acc\"], label=\"train_acc\")\n",
    "plt.plot(np.arange(0, N), H2.history[\"val_acc\"], label=\"val_acc\")\n",
    "plt.xlabel(\"Epoch #\")\n",
    "plt.ylabel(\"Accuracy\")\n",
    "plt.legend()"
   ]
  },
  {
   "cell_type": "markdown",
   "metadata": {},
   "source": [
    "## Comparação do Loss e Accuracy dos modelos MLP e CNN"
   ]
  },
  {
   "cell_type": "code",
   "execution_count": 30,
   "metadata": {},
   "outputs": [
    {
     "name": "stdout",
     "output_type": "stream",
     "text": [
      "Accuracy:\n",
      "Modelo MLP: 98.32 %\n",
      "Modelo CNN: 99.17 %\n",
      "\n",
      "Loss:\n",
      "Modelo MLP: 6.158 %\n",
      "Modelo CNN: 2.8086 %\n"
     ]
    }
   ],
   "source": [
    "print('Accuracy:\\nModelo MLP: {} %\\nModelo CNN: {} %\\n'.format((scores_mlp[1]*100), (scores_cnn[1])*100))\n",
    "print('Loss:\\nModelo MLP: {:.5} %\\nModelo CNN: {:.5} %'.format((scores_mlp[0]*100), (scores_cnn[0])*100))"
   ]
  },
  {
   "cell_type": "markdown",
   "metadata": {},
   "source": [
    "# Resultado\n",
    "- O modelo CNN obteve uma maior porcentagem de Acurácia e uma menor porcentagem de Erro;\n",
    "- Nota-se claramente que utilizando as camadas de convolução para extrair as principais características da imagem antes das camadas densas da Rede Neural, o modelo tem um melhor resultado."
   ]
  }
 ],
 "metadata": {
  "kernelspec": {
   "display_name": "Python 3",
   "language": "python",
   "name": "python3"
  },
  "language_info": {
   "codemirror_mode": {
    "name": "ipython",
    "version": 3
   },
   "file_extension": ".py",
   "mimetype": "text/x-python",
   "name": "python",
   "nbconvert_exporter": "python",
   "pygments_lexer": "ipython3",
   "version": "3.7.4"
  }
 },
 "nbformat": 4,
 "nbformat_minor": 2
}
